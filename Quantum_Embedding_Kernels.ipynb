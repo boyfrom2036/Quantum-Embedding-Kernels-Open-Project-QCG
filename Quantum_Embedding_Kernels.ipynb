{
  "nbformat": 4,
  "nbformat_minor": 0,
  "metadata": {
    "colab": {
      "provenance": [],
      "gpuType": "T4"
    },
    "kernelspec": {
      "name": "python3",
      "display_name": "Python 3"
    },
    "language_info": {
      "name": "python"
    },
    "accelerator": "GPU"
  },
  "cells": [
    {
      "cell_type": "code",
      "source": [
        "!pip install pennylane\n",
        "!pip install scikit-learn"
      ],
      "metadata": {
        "id": "IldvGaswjkha"
      },
      "execution_count": null,
      "outputs": []
    },
    {
      "cell_type": "markdown",
      "source": [
        "STEP 1"
      ],
      "metadata": {
        "id": "YP7udPoUITlv"
      }
    },
    {
      "cell_type": "markdown",
      "source": [
        "CHOSSING THE DATASET AND PREPROCESSING"
      ],
      "metadata": {
        "id": "OfzkL3mCL9wN"
      }
    },
    {
      "cell_type": "code",
      "source": [
        "import numpy as np\n",
        "import pandas as pd\n",
        "from sklearn.datasets import load_iris\n",
        "from sklearn.preprocessing import StandardScaler\n",
        "from sklearn.model_selection import StratifiedShuffleSplit\n",
        "import pennylane as qml\n",
        "from pennylane import numpy as pnp\n",
        "from sklearn.svm import SVC\n",
        "from scipy.optimize import minimize\n",
        "\n",
        "\n",
        "iris = load_iris()\n",
        "X = iris.data[iris.target != 2]  # Select only two classes\n",
        "y = iris.target[iris.target != 2]\n",
        "\n",
        "scaler = StandardScaler()\n",
        "X = scaler.fit_transform(X)\n",
        "\n",
        "\n",
        "sss = StratifiedShuffleSplit(n_splits=1, test_size=0.2, random_state=42)\n",
        "train_index, test_index = next(sss.split(X, y))\n",
        "X_train, X_test = X[train_index], X[test_index]\n",
        "y_train, y_test = y[train_index], y[test_index]\n",
        "\n",
        "\n",
        "print(\"Training class distribution:\", np.bincount(y_train))\n",
        "print(\"Test class distribution:\", np.bincount(y_test))\n",
        "\n",
        "\n",
        "if len(np.unique(y_train)) < 2 or len(np.unique(y_test)) < 2:\n",
        "    raise ValueError(\"The number of classes has to be greater than one in both training and test sets.\")"
      ],
      "metadata": {
        "colab": {
          "base_uri": "https://localhost:8080/"
        },
        "id": "xqwgVuYS_By0",
        "outputId": "535babec-4967-4286-986b-4d94ff338669"
      },
      "execution_count": 9,
      "outputs": [
        {
          "output_type": "stream",
          "name": "stdout",
          "text": [
            "Training class distribution: [40 40]\n",
            "Test class distribution: [10 10]\n"
          ]
        }
      ]
    },
    {
      "cell_type": "markdown",
      "source": [
        "STEP 2"
      ],
      "metadata": {
        "id": "P69h3HMz_IA7"
      }
    },
    {
      "cell_type": "markdown",
      "source": [
        "QUANTAM FEATURE MAP"
      ],
      "metadata": {
        "id": "0AUvTNQ8MCH-"
      }
    },
    {
      "cell_type": "code",
      "source": [
        "num_qubits = X_train.shape[1]  # Number of qubits should match the number of features\n",
        "\n",
        "dev = qml.device(\"default.qubit\", wires=num_qubits)\n",
        "\n",
        "@qml.qnode(dev)\n",
        "def quantum_kernel_circuit(x1, x2):\n",
        "    for i in range(num_qubits):\n",
        "        qml.RX(x1[i], wires=i)\n",
        "        qml.RY(x1[i], wires=i)\n",
        "    for i in range(num_qubits):\n",
        "        qml.RX(x2[i], wires=i)\n",
        "        qml.RY(x2[i], wires=i)\n",
        "    return qml.state()\n",
        "\n",
        "def quantum_kernel(params, x1, x2):\n",
        "    state1 = quantum_kernel_circuit(x1, np.zeros_like(x1))\n",
        "    state2 = quantum_kernel_circuit(x2, np.zeros_like(x2)).conj()\n",
        "    return np.abs(np.dot(state1, state2)) ** 2"
      ],
      "metadata": {
        "id": "_dEKwVKQ_Hpz"
      },
      "execution_count": 10,
      "outputs": []
    },
    {
      "cell_type": "markdown",
      "source": [
        "STEP 3"
      ],
      "metadata": {
        "id": "UkiLiTpC_Vh8"
      }
    },
    {
      "cell_type": "markdown",
      "source": [
        "***Compute QEK Matrix with Progress Tracking***"
      ],
      "metadata": {
        "id": "eZAICQ6PMJtt"
      }
    },
    {
      "cell_type": "code",
      "source": [
        "def quantum_kernel_matrix(X1, X2, params, verbose=False):\n",
        "    qk_matrix = np.zeros((len(X1), len(X2)))\n",
        "\n",
        "    total_combinations = len(X1) * len(X2)\n",
        "    for i, x1 in enumerate(X1):\n",
        "        for j, x2 in enumerate(X2):\n",
        "            qk_matrix[i, j] = quantum_kernel(params, x1, x2)\n",
        "\n",
        "            if verbose:\n",
        "                print(f\"Computing kernel matrix: {i*len(X2)+j+1}/{total_combinations} completed\", end=\"\\r\")\n",
        "\n",
        "    if verbose:\n",
        "        print()\n",
        "    return qk_matrix"
      ],
      "metadata": {
        "id": "yujVvQSN_B38"
      },
      "execution_count": 14,
      "outputs": []
    },
    {
      "cell_type": "markdown",
      "source": [
        "STEP 4"
      ],
      "metadata": {
        "id": "2YJm2KHP_cRd"
      }
    },
    {
      "cell_type": "markdown",
      "source": [
        "***Optimize Variational Parameters with Fixed Iterations***"
      ],
      "metadata": {
        "id": "wRh0nl1TMPge"
      }
    },
    {
      "cell_type": "code",
      "source": [
        "def kernel_target_alignment(K, y):\n",
        "    y = y * 2 - 1  # Convert {0, 1} to {-1, 1}\n",
        "    Ky = K @ y\n",
        "    alignment = np.dot(y, Ky) / np.linalg.norm(Ky)\n",
        "    return alignment\n",
        "\n",
        "def objective_function(params, iteration=[0]):\n",
        "    iteration[0] += 1\n",
        "    if iteration[0] > 10:\n",
        "        return 0  # End optimization if iteration exceeds 10\n",
        "\n",
        "    print(f\"Optimization iteration {iteration[0]}: Computing kernel matrix...\")\n",
        "    K = quantum_kernel_matrix(X_train, X_train, params, verbose=True)\n",
        "    alignment = kernel_target_alignment(K, y_train)\n",
        "    print(f\"Optimization iteration {iteration[0]}: Alignment = {-alignment:.4f}\")\n",
        "    return -alignment\n",
        "\n",
        "initial_params = np.random.rand(num_qubits * 2)  # Initial parameters for RX and RY\n",
        "opt_result = minimize(objective_function, initial_params, method='COBYLA')\n",
        "optimized_params = opt_result.x"
      ],
      "metadata": {
        "colab": {
          "base_uri": "https://localhost:8080/"
        },
        "id": "C9jnAY6d_B8k",
        "outputId": "ead54600-7c43-41da-995e-1826bf43af0e"
      },
      "execution_count": 16,
      "outputs": [
        {
          "output_type": "stream",
          "name": "stdout",
          "text": [
            "Optimization iteration 1: Computing kernel matrix...\n",
            "Computing kernel matrix: 6400/6400 completed\n",
            "Optimization iteration 1: Alignment = -8.8083\n",
            "Optimization iteration 2: Computing kernel matrix...\n",
            "Computing kernel matrix: 6400/6400 completed\n",
            "Optimization iteration 2: Alignment = -8.8083\n",
            "Optimization iteration 3: Computing kernel matrix...\n",
            "Computing kernel matrix: 6400/6400 completed\n",
            "Optimization iteration 3: Alignment = -8.8083\n",
            "Optimization iteration 4: Computing kernel matrix...\n",
            "Computing kernel matrix: 6400/6400 completed\n",
            "Optimization iteration 4: Alignment = -8.8083\n",
            "Optimization iteration 5: Computing kernel matrix...\n",
            "Computing kernel matrix: 6400/6400 completed\n",
            "Optimization iteration 5: Alignment = -8.8083\n",
            "Optimization iteration 6: Computing kernel matrix...\n",
            "Computing kernel matrix: 6400/6400 completed\n",
            "Optimization iteration 6: Alignment = -8.8083\n",
            "Optimization iteration 7: Computing kernel matrix...\n",
            "Computing kernel matrix: 6400/6400 completed\n",
            "Optimization iteration 7: Alignment = -8.8083\n",
            "Optimization iteration 8: Computing kernel matrix...\n",
            "Computing kernel matrix: 6400/6400 completed\n",
            "Optimization iteration 8: Alignment = -8.8083\n",
            "Optimization iteration 9: Computing kernel matrix...\n",
            "Computing kernel matrix: 6400/6400 completed\n",
            "Optimization iteration 9: Alignment = -8.8083\n",
            "Optimization iteration 10: Computing kernel matrix...\n",
            "Computing kernel matrix: 6400/6400 completed\n",
            "Optimization iteration 10: Alignment = -8.8083\n"
          ]
        }
      ]
    },
    {
      "cell_type": "markdown",
      "source": [
        "STEP 5"
      ],
      "metadata": {
        "id": "GmpN-7bh_g2T"
      }
    },
    {
      "cell_type": "markdown",
      "source": [
        "***Noise Mitigation and Regularization***"
      ],
      "metadata": {
        "id": "KAHkwsqOMYFd"
      }
    },
    {
      "cell_type": "code",
      "source": [
        "def apply_noise_mitigation_and_regularization(kernel_matrix):\n",
        "\n",
        "    regularization_term = 1e-3\n",
        "    num_samples, num_features = kernel_matrix.shape\n",
        "\n",
        "\n",
        "    regularization_matrix = regularization_term * np.eye(num_samples, num_features)\n",
        "\n",
        "\n",
        "    kernel_matrix += regularization_matrix\n",
        "\n",
        "    return kernel_matrix\n",
        "\n",
        "\n",
        "print(\"Computing training kernel matrix...\")\n",
        "qk_matrix_train_optimized = quantum_kernel_matrix(X_train, X_train, optimized_params, verbose=True)\n",
        "qk_matrix_train_optimized = apply_noise_mitigation_and_regularization(qk_matrix_train_optimized)\n",
        "\n",
        "\n",
        "print(\"Computing test kernel matrix...\")\n",
        "qk_matrix_test_optimized = quantum_kernel_matrix(X_test, X_train, optimized_params, verbose=True)\n",
        "qk_matrix_test_optimized = apply_noise_mitigation_and_regularization(qk_matrix_test_optimized)"
      ],
      "metadata": {
        "colab": {
          "base_uri": "https://localhost:8080/"
        },
        "id": "awnCtRyeK7hW",
        "outputId": "ebafa33b-b888-4e35-d297-96c44101f8b8"
      },
      "execution_count": 24,
      "outputs": [
        {
          "output_type": "stream",
          "name": "stdout",
          "text": [
            "Computing training kernel matrix...\n",
            "Computing kernel matrix: 6400/6400 completed\n",
            "Computing test kernel matrix...\n",
            "Computing kernel matrix: 1600/1600 completed\n"
          ]
        }
      ]
    },
    {
      "cell_type": "markdown",
      "source": [
        "step 6"
      ],
      "metadata": {
        "id": "c1GI0pHR_qzU"
      }
    },
    {
      "cell_type": "markdown",
      "source": [
        "***Train SVM Classifier***"
      ],
      "metadata": {
        "id": "rYHocQp2MeSW"
      }
    },
    {
      "cell_type": "code",
      "source": [
        "svm = SVC(kernel='precomputed')\n",
        "svm.fit(qk_matrix_train_optimized, y_train)"
      ],
      "metadata": {
        "colab": {
          "base_uri": "https://localhost:8080/",
          "height": 74
        },
        "id": "HuUv-lch_CHE",
        "outputId": "281efab8-76e8-4104-b1b3-b8f809db5026"
      },
      "execution_count": 25,
      "outputs": [
        {
          "output_type": "execute_result",
          "data": {
            "text/plain": [
              "SVC(kernel='precomputed')"
            ],
            "text/html": [
              "<style>#sk-container-id-3 {color: black;background-color: white;}#sk-container-id-3 pre{padding: 0;}#sk-container-id-3 div.sk-toggleable {background-color: white;}#sk-container-id-3 label.sk-toggleable__label {cursor: pointer;display: block;width: 100%;margin-bottom: 0;padding: 0.3em;box-sizing: border-box;text-align: center;}#sk-container-id-3 label.sk-toggleable__label-arrow:before {content: \"▸\";float: left;margin-right: 0.25em;color: #696969;}#sk-container-id-3 label.sk-toggleable__label-arrow:hover:before {color: black;}#sk-container-id-3 div.sk-estimator:hover label.sk-toggleable__label-arrow:before {color: black;}#sk-container-id-3 div.sk-toggleable__content {max-height: 0;max-width: 0;overflow: hidden;text-align: left;background-color: #f0f8ff;}#sk-container-id-3 div.sk-toggleable__content pre {margin: 0.2em;color: black;border-radius: 0.25em;background-color: #f0f8ff;}#sk-container-id-3 input.sk-toggleable__control:checked~div.sk-toggleable__content {max-height: 200px;max-width: 100%;overflow: auto;}#sk-container-id-3 input.sk-toggleable__control:checked~label.sk-toggleable__label-arrow:before {content: \"▾\";}#sk-container-id-3 div.sk-estimator input.sk-toggleable__control:checked~label.sk-toggleable__label {background-color: #d4ebff;}#sk-container-id-3 div.sk-label input.sk-toggleable__control:checked~label.sk-toggleable__label {background-color: #d4ebff;}#sk-container-id-3 input.sk-hidden--visually {border: 0;clip: rect(1px 1px 1px 1px);clip: rect(1px, 1px, 1px, 1px);height: 1px;margin: -1px;overflow: hidden;padding: 0;position: absolute;width: 1px;}#sk-container-id-3 div.sk-estimator {font-family: monospace;background-color: #f0f8ff;border: 1px dotted black;border-radius: 0.25em;box-sizing: border-box;margin-bottom: 0.5em;}#sk-container-id-3 div.sk-estimator:hover {background-color: #d4ebff;}#sk-container-id-3 div.sk-parallel-item::after {content: \"\";width: 100%;border-bottom: 1px solid gray;flex-grow: 1;}#sk-container-id-3 div.sk-label:hover label.sk-toggleable__label {background-color: #d4ebff;}#sk-container-id-3 div.sk-serial::before {content: \"\";position: absolute;border-left: 1px solid gray;box-sizing: border-box;top: 0;bottom: 0;left: 50%;z-index: 0;}#sk-container-id-3 div.sk-serial {display: flex;flex-direction: column;align-items: center;background-color: white;padding-right: 0.2em;padding-left: 0.2em;position: relative;}#sk-container-id-3 div.sk-item {position: relative;z-index: 1;}#sk-container-id-3 div.sk-parallel {display: flex;align-items: stretch;justify-content: center;background-color: white;position: relative;}#sk-container-id-3 div.sk-item::before, #sk-container-id-3 div.sk-parallel-item::before {content: \"\";position: absolute;border-left: 1px solid gray;box-sizing: border-box;top: 0;bottom: 0;left: 50%;z-index: -1;}#sk-container-id-3 div.sk-parallel-item {display: flex;flex-direction: column;z-index: 1;position: relative;background-color: white;}#sk-container-id-3 div.sk-parallel-item:first-child::after {align-self: flex-end;width: 50%;}#sk-container-id-3 div.sk-parallel-item:last-child::after {align-self: flex-start;width: 50%;}#sk-container-id-3 div.sk-parallel-item:only-child::after {width: 0;}#sk-container-id-3 div.sk-dashed-wrapped {border: 1px dashed gray;margin: 0 0.4em 0.5em 0.4em;box-sizing: border-box;padding-bottom: 0.4em;background-color: white;}#sk-container-id-3 div.sk-label label {font-family: monospace;font-weight: bold;display: inline-block;line-height: 1.2em;}#sk-container-id-3 div.sk-label-container {text-align: center;}#sk-container-id-3 div.sk-container {/* jupyter's `normalize.less` sets `[hidden] { display: none; }` but bootstrap.min.css set `[hidden] { display: none !important; }` so we also need the `!important` here to be able to override the default hidden behavior on the sphinx rendered scikit-learn.org. See: https://github.com/scikit-learn/scikit-learn/issues/21755 */display: inline-block !important;position: relative;}#sk-container-id-3 div.sk-text-repr-fallback {display: none;}</style><div id=\"sk-container-id-3\" class=\"sk-top-container\"><div class=\"sk-text-repr-fallback\"><pre>SVC(kernel=&#x27;precomputed&#x27;)</pre><b>In a Jupyter environment, please rerun this cell to show the HTML representation or trust the notebook. <br />On GitHub, the HTML representation is unable to render, please try loading this page with nbviewer.org.</b></div><div class=\"sk-container\" hidden><div class=\"sk-item\"><div class=\"sk-estimator sk-toggleable\"><input class=\"sk-toggleable__control sk-hidden--visually\" id=\"sk-estimator-id-3\" type=\"checkbox\" checked><label for=\"sk-estimator-id-3\" class=\"sk-toggleable__label sk-toggleable__label-arrow\">SVC</label><div class=\"sk-toggleable__content\"><pre>SVC(kernel=&#x27;precomputed&#x27;)</pre></div></div></div></div></div>"
            ]
          },
          "metadata": {},
          "execution_count": 25
        }
      ]
    },
    {
      "cell_type": "markdown",
      "source": [
        "step 7"
      ],
      "metadata": {
        "id": "gLPiKikG_ugz"
      }
    },
    {
      "cell_type": "markdown",
      "source": [
        "*** Evaluate Classifier***"
      ],
      "metadata": {
        "id": "41y-q7CSMmo-"
      }
    },
    {
      "cell_type": "code",
      "source": [
        "y_pred = svm.predict(qk_matrix_test_optimized)\n",
        "accuracy = np.mean(y_pred == y_test)\n",
        "print(f\"Classification Accuracy: {accuracy * 100:.2f}%\")"
      ],
      "metadata": {
        "colab": {
          "base_uri": "https://localhost:8080/"
        },
        "id": "NSy5yZr28CRc",
        "outputId": "1625b693-4ae0-4e4f-9601-c71af79b436e"
      },
      "execution_count": 26,
      "outputs": [
        {
          "output_type": "stream",
          "name": "stdout",
          "text": [
            "Classification Accuracy: 100.00%\n"
          ]
        }
      ]
    },
    {
      "cell_type": "code",
      "source": [],
      "metadata": {
        "id": "Q59NpWUxNHPO"
      },
      "execution_count": null,
      "outputs": []
    },
    {
      "cell_type": "code",
      "source": [],
      "metadata": {
        "id": "QHd-o247NHsR"
      },
      "execution_count": null,
      "outputs": []
    }
  ]
}